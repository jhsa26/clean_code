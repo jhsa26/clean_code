{
 "metadata": {
  "name": "",
  "signature": "sha256:b06839a26d40c6d7cd47868eac193093b0b8320797d118953f8a95b2eb1d9e28"
 },
 "nbformat": 3,
 "nbformat_minor": 0,
 "worksheets": []
}